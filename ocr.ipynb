{
 "cells": [
  {
   "cell_type": "code",
   "execution_count": 1,
   "metadata": {},
   "outputs": [],
   "source": [
    "import pdf2image\n",
    "import easyocr as e\n",
    "import numpy as np\n",
    "import PIL\n",
    "from PIL import ImageDraw\n",
    "import spacy "
   ]
  },
  {
   "cell_type": "code",
   "execution_count": 2,
   "metadata": {},
   "outputs": [
    {
     "name": "stderr",
     "output_type": "stream",
     "text": [
      "CUDA not available - defaulting to CPU. Note: This module is much faster with a GPU.\n"
     ]
    }
   ],
   "source": [
    "reader = e.Reader(['en'])"
   ]
  },
  {
   "cell_type": "code",
   "execution_count": 3,
   "metadata": {},
   "outputs": [],
   "source": [
    "import os\n",
    "from pathlib import Path\n",
    "path = r\"C:\\Users\\Asus\\OneDrive\\Desktop\\morecv\"\n",
    "all_files=[]\n",
    "for base, _, files in os.walk(Path(path)):\n",
    "    for Files in files:\n",
    "        if Files.endswith('.pdf'):\n",
    "               all_files.append(Files)\n",
    "               \n",
    "          "
   ]
  },
  {
   "cell_type": "code",
   "execution_count": 4,
   "metadata": {},
   "outputs": [],
   "source": [
    "\n",
    "for j in all_files:\n",
    "    images = (pdf2image.convert_from_path(r'C:\\Users\\Asus\\OneDrive\\Desktop\\Credicxo  Internship\\Resume Parser\\abdul.pdf', \n",
    "    poppler_path=r'C:\\Program Files\\poppler-0.68.0\\bin'))\n",
    "    \n"
   ]
  },
  {
   "cell_type": "code",
   "execution_count": 5,
   "metadata": {},
   "outputs": [
    {
     "data": {
      "text/plain": [
       "2"
      ]
     },
     "execution_count": 5,
     "metadata": {},
     "output_type": "execute_result"
    }
   ],
   "source": [
    "len(images)"
   ]
  },
  {
   "cell_type": "code",
   "execution_count": 6,
   "metadata": {},
   "outputs": [
    {
     "data": {
      "text/plain": [
       "'from IPython.display import display, Image\\nfor i in range(0,len(images)):\\n    display(images[i])'"
      ]
     },
     "execution_count": 6,
     "metadata": {},
     "output_type": "execute_result"
    }
   ],
   "source": [
    "'''from IPython.display import display, Image\n",
    "for i in range(0,len(images)):\n",
    "    display(images[i])'''"
   ]
  },
  {
   "cell_type": "code",
   "execution_count": 7,
   "metadata": {},
   "outputs": [],
   "source": [
    "bounds= []\n",
    "for i in range(0,len(images)):\n",
    "    bounds.append(reader.readtext(np.array(images[i]), min_size=0,\n",
    "       slope_ths=0.2,ycenter_ths=0.7,height_ths=0.6,width_ths=0.8,\n",
    "       decoder='beamsearch', beamWidth=10))"
   ]
  },
  {
   "cell_type": "code",
   "execution_count": 8,
   "metadata": {},
   "outputs": [
    {
     "data": {
      "text/plain": [
       "\"def draw_boxes(image,bounds,color='red',width=2):\\n    draw = ImageDraw.Draw(image)\\n    for bound in bounds:\\n        p0,p1,p2,p3 = bound[0]\\n        draw.line([*p0,*p1,*p2,*p3,*p0],fill=color, width=width)\\n    return image\\n\\ndraw_boxes(images[0],bounds)\""
      ]
     },
     "execution_count": 8,
     "metadata": {},
     "output_type": "execute_result"
    }
   ],
   "source": [
    "'''def draw_boxes(image,bounds,color='red',width=2):\n",
    "    draw = ImageDraw.Draw(image)\n",
    "    for bound in bounds:\n",
    "        p0,p1,p2,p3 = bound[0]\n",
    "        draw.line([*p0,*p1,*p2,*p3,*p0],fill=color, width=width)\n",
    "    return image\n",
    "\n",
    "draw_boxes(images[0],bounds)'''\n"
   ]
  },
  {
   "cell_type": "code",
   "execution_count": null,
   "metadata": {},
   "outputs": [],
   "source": []
  },
  {
   "cell_type": "code",
   "execution_count": 14,
   "metadata": {},
   "outputs": [
    {
     "name": "stdout",
     "output_type": "stream",
     "text": [
      "CURRICULUM VITAE\n",
      "Abdul Khan\n",
      "Add:- Sanjay Enclave, gali no -1,\n",
      "Near Vinayak Enclave;Girdharpur Road, Chaprola,\n",
      "Mumbai; Maharastra:\n",
      "Mob no.:-8630591122(whatspp number),7290911122\n",
      "Email Id:-abdulss@gmailcom\n",
      "OBJECTIVE\n",
      "To work within the challenging environment in a position that employs my skill, utilize my\n",
      "talents in achieving excellence improving myself:\n",
      "PROFESSIONAL QUALIFICATION\n",
      "3 Year Diploma in Mechanical Engineering (Production) with first division with 68.31% From\n",
      "Saraswati Institute of Engineering\n",
      "Technology Ghaziabad\n",
      "ffiliated by Board of Technical\n",
      "Education,Lucknow,Uttar Pradesh in 2018. And Currently pursing Digital game designing,and\n",
      "6 months\n",
      "experience graphic designer and pursing video editing\n",
      "EDUCATIONAL QUALIFICATIONS\n",
      "10th_ Passed with 70% from UP board in 2012 from Gautam public school.\n",
      "12th-passed with 65% from UP board in 2014 from Sanatan Dharm inter college.\n",
      "COMPUTER SKILLS\n",
      "Good knowledge of computer;knowledge of Adobe photoshop, Adobe illustrator; corel draw:\n",
      "STRENGTHS\n",
      "Positive Attitude\n",
      "Team Spirit\n",
      "Hard Working:\n",
      "WORK EXPERIENCE\n",
      "1.\n",
      "6 months\n",
      "experience in graphic designing software like Adobe photoshopAdobe illustrator; corel\n",
      "draw.1 year experience in 2d autocad design Engineering and Solidworks.\n",
      "HOBBIES\n",
      "Reading book\n",
      "PERSONAL INFORMATION\n",
      "Name\n",
      "Abdul Khan\n",
      "Father s Name\n",
      "Mr: Firoj Khan\n",
      "Date of Birth\n",
      "18th January 1986\n",
      "Sex\n",
      "Male\n",
      "Nationality\n",
      "Indian\n",
      "Language Known\n",
      "Hindi, English:\n",
      "Marital Status\n",
      "Unmarried\n",
      "Religion\n",
      "Muslim\n",
      "PERMANENT ADDRESS\n",
      "Village:- Bishunpura,\n",
      "Post:   Gohda Bishunpura,\n",
      "Distt: -\n",
      "Mumbai,\n",
      "Mumbai, Pin-222333.\n",
      "DECLARATION\n",
      "am Shubham tiwari declare with my full concern that all information mentioned above by me is\n",
      "true and up to date to the best of my knowledge:\n",
      "Place\n",
      "'Mumbai\n",
      "(Abdul Khan)\n"
     ]
    }
   ],
   "source": [
    "text=''\n",
    "for j in range(len(bounds)):\n",
    "    for i in range(len(bounds[j])):\n",
    "        text = text + bounds[j][i][1] + '\\n'\n",
    "\n",
    "   \n",
    "print(text.strip())"
   ]
  },
  {
   "cell_type": "code",
   "execution_count": 15,
   "metadata": {},
   "outputs": [],
   "source": [
    "text_file = open(r\"C:\\Users\\Asus\\OneDrive\\Desktop\\Credicxo  Internship\\OCR and NER\\text2.txt\", \"w\")\n",
    "text_file.write(text)\n",
    "text_file.close()"
   ]
  },
  {
   "cell_type": "code",
   "execution_count": 11,
   "metadata": {},
   "outputs": [
    {
     "data": {
      "text/plain": [
       "\"nlp = spacy.load('en_core_web_sm')\""
      ]
     },
     "execution_count": 11,
     "metadata": {},
     "output_type": "execute_result"
    }
   ],
   "source": [
    "'''nlp = spacy.load('en_core_web_sm')'''"
   ]
  },
  {
   "cell_type": "code",
   "execution_count": 12,
   "metadata": {},
   "outputs": [
    {
     "data": {
      "text/plain": [
       "'doc = nlp(text)'"
      ]
     },
     "execution_count": 12,
     "metadata": {},
     "output_type": "execute_result"
    }
   ],
   "source": [
    "'''doc = nlp(text)'''"
   ]
  },
  {
   "cell_type": "code",
   "execution_count": 13,
   "metadata": {},
   "outputs": [
    {
     "data": {
      "text/plain": [
       "\"from spacy import displacy\\ndisplacy.render(nlp(doc.text),style='ent',jupyter=True)\""
      ]
     },
     "execution_count": 13,
     "metadata": {},
     "output_type": "execute_result"
    }
   ],
   "source": [
    "'''from spacy import displacy\n",
    "displacy.render(nlp(doc.text),style='ent',jupyter=True)'''"
   ]
  },
  {
   "cell_type": "code",
   "execution_count": null,
   "metadata": {},
   "outputs": [],
   "source": []
  },
  {
   "cell_type": "code",
   "execution_count": null,
   "metadata": {},
   "outputs": [],
   "source": []
  }
 ],
 "metadata": {
  "interpreter": {
   "hash": "b5843a13e7131a14c3c0e364f0390d6592a995e3082c3f83420ac4385eeb2370"
  },
  "kernelspec": {
   "display_name": "Python 3.9.2 64-bit",
   "language": "python",
   "name": "python3"
  },
  "language_info": {
   "codemirror_mode": {
    "name": "ipython",
    "version": 3
   },
   "file_extension": ".py",
   "mimetype": "text/x-python",
   "name": "python",
   "nbconvert_exporter": "python",
   "pygments_lexer": "ipython3",
   "version": "3.9.2"
  },
  "orig_nbformat": 4
 },
 "nbformat": 4,
 "nbformat_minor": 2
}
