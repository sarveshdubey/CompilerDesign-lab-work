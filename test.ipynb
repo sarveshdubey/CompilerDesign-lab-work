{
 "cells": [
  {
   "cell_type": "code",
   "execution_count": 12,
   "metadata": {
    "collapsed": true
   },
   "outputs": [],
   "source": [
    "from selenium import webdriver\n",
    "from selenium.webdriver.chrome.options import Options\n",
    "from configure import *\n",
    "from time import sleep\n",
    "import csv\n",
    "from datetime import datetime\n",
    "import random\n",
    "import os"
   ]
  },
  {
   "cell_type": "code",
   "execution_count": 13,
   "metadata": {
    "collapsed": false,
    "pycharm": {
     "name": "#%%\n"
    }
   },
   "outputs": [],
   "source": [
    "def sign_in(browser):\n",
    "    browser.get('https://linkedin.com/uas/login')\n",
    "    emailElement = browser.find_element_by_id('username')\n",
    "    emailElement.send_keys(EMAIL)\n",
    "    passElement = browser.find_element_by_id('password')\n",
    "    passElement.send_keys(PASS)\n",
    "    passElement.submit()\n",
    "\n",
    "    if PRINT_ACTIONS:\n",
    "        print('-> Signing in...')\n",
    "    sleep(3)\n",
    "    print('!!! Sign in success!\\n')\n",
    "    return browser"
   ]
  },
  {
   "cell_type": "code",
   "execution_count": 14,
   "metadata": {
    "collapsed": false,
    "pycharm": {
     "name": "#%%\n"
    }
   },
   "outputs": [],
   "source": [
    "def create_csv(data, date):\n",
    "    filename = 'Linked-In-' + date + '.csv'\n",
    "    with open(filename, 'w') as csvFile:\n",
    "        writer = csv.writer(csvFile)\n",
    "        writer.writerow(data)\n",
    "\n",
    "\n",
    "def add_to_csv(data, date):\n",
    "    filename = 'Linked-In-' + date + '.csv'\n",
    "    with open(filename, 'a') as csvFile:\n",
    "        writer = csv.writer(csvFile)\n",
    "        writer.writerow(data)"
   ]
  },
  {
   "cell_type": "code",
   "execution_count": 15,
   "metadata": {
    "collapsed": false,
    "pycharm": {
     "name": "#%%\n"
    }
   },
   "outputs": [],
   "source": [
    "def send_invitation_note(browser):\n",
    "    note_button_entity = browser.find_element_by_xpath('//button[@aria-label=\"Add a note\"]')\n",
    "    note_button_entity.click()\n",
    "    sleep(1)\n",
    "    message = browser.find_element_by_xpath('//textarea[@name=\"message\"]')\n",
    "    message.send_keys(CONNECT_MESSAGE)\n",
    "    sleep(1)\n",
    "    send_buttom_entity = browser.find_element_by_xpath('//button[@aria-label=\"Send now\"]')\n",
    "    send_buttom_entity.click()\n",
    "    return browser"
   ]
  },
  {
   "cell_type": "code",
   "execution_count": 16,
   "metadata": {
    "collapsed": false,
    "pycharm": {
     "name": "#%%\n"
    }
   },
   "outputs": [],
   "source": [
    "def connect_buttons_fetch_details(browser, keyword):\n",
    "    global NO_OF_CONNECTIONS\n",
    "    results = browser.find_elements_by_class_name('reusable-search__result-container')\n",
    "    for result in results:\n",
    "        profile = result.find_elements_by_class_name('app-aware-link')[1]\n",
    "        profile_link = profile.get_attribute('href')\n",
    "        profile_name = profile.text.split('\\n')[0]\n",
    "        title = result.find_element_by_class_name('entity-result__primary-subtitle').text\n",
    "        place = result.find_element_by_class_name('entity-result__secondary-subtitle').text\n",
    "        profile_row = [profile_name, title, keyword, profile_link, place, 'False']\n",
    "        button_entity = result.find_element_by_css_selector('.artdeco-button.artdeco-button--2.artdeco-button--secondary.ember-view')\n",
    "        __text__be = button_entity.text\n",
    "        if 'Connect' in __text__be:\n",
    "            sleep(2)\n",
    "            try:\n",
    "                button_entity.click()\n",
    "            except Exception:\n",
    "                continue\n",
    "            browser = send_invitation_note(browser)\n",
    "            sleep(random.uniform(1, 2))\n",
    "            NO_OF_CONNECTIONS = NO_OF_CONNECTIONS - 1\n",
    "            print(NO_OF_CONNECTIONS)\n",
    "            add_to_csv(data=profile_row, date=str(datetime.now().date()))\n",
    "\n",
    "def connect(browser):\n",
    "    global NO_OF_CONNECTIONS\n",
    "    page_counter = 1\n",
    "    date = str(datetime.now().date())\n",
    "    if not os.path.exists('Linked-In-' + date + '.csv'):\n",
    "        create_csv([\"Name\", \"Title\", \"Title Match\", \"Profile Link\", \"Place\", \"Connected\"], date)\n",
    "\n",
    "    for keyword in SEARCH_KEYWORDS:\n",
    "        while NO_OF_CONNECTIONS != 0:\n",
    "            browser.get(\n",
    "                f'https://www.linkedin.com/search/results/people/?keywords={keyword}&origin=SWITCH_SEARCH_VERTICAL&page={page_counter}')\n",
    "            connect_buttons_fetch_details(browser, keyword)\n",
    "            page_counter += 1\n",
    "    return browser"
   ]
  },
  {
   "cell_type": "code",
   "execution_count": 17,
   "metadata": {
    "collapsed": false,
    "pycharm": {
     "name": "#%%\n"
    }
   },
   "outputs": [
    {
     "name": "stderr",
     "output_type": "stream",
     "text": [
      "C:\\Users\\Asus\\AppData\\Local\\Temp/ipykernel_14168/56353563.py:6: DeprecationWarning: executable_path has been deprecated, please pass in a Service object\n",
      "  browser = webdriver.Chrome( executable_path=r\"C:\\Program Files (x86)\\chromedriver\" ,options=chrome_options)\n",
      "C:\\Users\\Asus\\AppData\\Local\\Temp/ipykernel_14168/3271632750.py:3: DeprecationWarning: find_element_by_* commands are deprecated. Please use find_element() instead\n",
      "  emailElement = browser.find_element_by_id('username')\n",
      "C:\\Users\\Asus\\AppData\\Local\\Temp/ipykernel_14168/3271632750.py:5: DeprecationWarning: find_element_by_* commands are deprecated. Please use find_element() instead\n",
      "  passElement = browser.find_element_by_id('password')\n"
     ]
    },
    {
     "name": "stdout",
     "output_type": "stream",
     "text": [
      "-> Signing in...\n",
      "!!! Sign in success!\n",
      "\n"
     ]
    },
    {
     "data": {
      "text/plain": [
       "' CONNECT WITH USERS'"
      ]
     },
     "execution_count": 17,
     "metadata": {},
     "output_type": "execute_result"
    }
   ],
   "source": [
    "\n",
    "chrome_options = Options()\n",
    "if HEADLESS:\n",
    "    chrome_options.add_argument('--headless')\n",
    "chrome_options.add_argument(\"--start-maximized\")\n",
    "\n",
    "browser = webdriver.Chrome( executable_path=r\"C:\\Program Files (x86)\\chromedriver\" ,options=chrome_options)\n",
    "\n",
    "\"\"\" SIGN IN \"\"\"\n",
    "browser = sign_in(browser=browser)\n",
    "\"\"\" CONNECT WITH USERS\"\"\"\n",
    "# browser = connect(browser=browser)\n",
    "# sleep(10)"
   ]
  },
  {
   "cell_type": "code",
   "execution_count": 18,
   "metadata": {
    "collapsed": false,
    "pycharm": {
     "name": "#%%\n"
    }
   },
   "outputs": [],
   "source": [
    "browser.get('https://www.linkedin.com/search/results/people/?keywords=fintech&origin=SWITCH_SEARCH_VERTICAL&page=11')\n"
   ]
  },
  {
   "cell_type": "code",
   "execution_count": 19,
   "metadata": {
    "collapsed": false,
    "pycharm": {
     "name": "#%%\n"
    }
   },
   "outputs": [
    {
     "name": "stderr",
     "output_type": "stream",
     "text": [
      "C:\\Users\\Asus\\AppData\\Local\\Temp/ipykernel_14168/2959164693.py:1: DeprecationWarning: find_elements_by_* commands are deprecated. Please use find_elements() instead\n",
      "  results = browser.find_elements_by_xpath('//li[@class=\"reusable-search__result-container \"]')\n"
     ]
    }
   ],
   "source": [
    "results = browser.find_elements_by_xpath('//li[@class=\"reusable-search__result-container \"]')"
   ]
  },
  {
   "cell_type": "code",
   "execution_count": 20,
   "metadata": {
    "collapsed": false,
    "pycharm": {
     "name": "#%%\n"
    }
   },
   "outputs": [
    {
     "name": "stdout",
     "output_type": "stream",
     "text": [
      "Follow\n",
      "Follow\n",
      "Connect\n",
      "Connect\n",
      "Connect\n",
      "Connect\n",
      "Connect\n",
      "Follow\n",
      "Connect\n",
      "Follow\n"
     ]
    }
   ],
   "source": [
    "for i in results:\n",
    "    # x  = i.find_element_by_xpath('//*[@class=\"artdeco-button\" or @class=\"artdeco-button--2\" or @class=\"artdeco-button--secondary\"]')\n",
    "    x = i.find_element_by_css_selector(\".artdeco-button.artdeco-button--2.artdeco-button--secondary.ember-view\")\n",
    "    # x = i.find_element_by_class_name('artdeco-button')\n",
    "    print(x.text)\n",
    "    # print(i.find_element_by_class_name('artdeco-button').text)"
   ]
  },
  {
   "cell_type": "code",
   "execution_count": 21,
   "metadata": {
    "collapsed": false,
    "pycharm": {
     "name": "#%%\n"
    }
   },
   "outputs": [
    {
     "name": "stderr",
     "output_type": "stream",
     "text": [
      "C:\\Users\\Asus\\AppData\\Local\\Temp/ipykernel_14168/2995802360.py:3: DeprecationWarning: find_elements_by_* commands are deprecated. Please use find_elements() instead\n",
      "  results = browser.find_elements_by_class_name('reusable-search__result-container')\n",
      "C:\\Users\\Asus\\AppData\\Local\\Temp/ipykernel_14168/2774090357.py:2: DeprecationWarning: find_element_by_* commands are deprecated. Please use find_element() instead\n",
      "  note_button_entity = browser.find_element_by_xpath('//button[@aria-label=\"Add a note\"]')\n",
      "C:\\Users\\Asus\\AppData\\Local\\Temp/ipykernel_14168/2774090357.py:5: DeprecationWarning: find_element_by_* commands are deprecated. Please use find_element() instead\n",
      "  message = browser.find_element_by_xpath('//textarea[@name=\"message\"]')\n",
      "C:\\Users\\Asus\\AppData\\Local\\Temp/ipykernel_14168/2774090357.py:8: DeprecationWarning: find_element_by_* commands are deprecated. Please use find_element() instead\n",
      "  send_buttom_entity = browser.find_element_by_xpath('//button[@aria-label=\"Send now\"]')\n"
     ]
    },
    {
     "name": "stdout",
     "output_type": "stream",
     "text": [
      "9\n"
     ]
    },
    {
     "ename": "NoSuchElementException",
     "evalue": "Message: no such element: Unable to locate element: {\"method\":\"xpath\",\"selector\":\"//button[@aria-label=\"Add a note\"]\"}\n  (Session info: chrome=96.0.4664.45)\nStacktrace:\nBacktrace:\n\tOrdinal0 [0x01246903+2517251]\n\tOrdinal0 [0x011DF8E1+2095329]\n\tOrdinal0 [0x010E2848+1058888]\n\tOrdinal0 [0x0110D448+1233992]\n\tOrdinal0 [0x0110D63B+1234491]\n\tOrdinal0 [0x01137812+1406994]\n\tOrdinal0 [0x0112650A+1336586]\n\tOrdinal0 [0x01135BBF+1399743]\n\tOrdinal0 [0x0112639B+1336219]\n\tOrdinal0 [0x011027A7+1189799]\n\tOrdinal0 [0x01103609+1193481]\n\tGetHandleVerifier [0x013D5904+1577972]\n\tGetHandleVerifier [0x01480B97+2279047]\n\tGetHandleVerifier [0x012D6D09+534521]\n\tGetHandleVerifier [0x012D5DB9+530601]\n\tOrdinal0 [0x011E4FF9+2117625]\n\tOrdinal0 [0x011E98A8+2136232]\n\tOrdinal0 [0x011E99E2+2136546]\n\tOrdinal0 [0x011F3541+2176321]\n\tBaseThreadInitThunk [0x751B6739+25]\n\tRtlGetFullPathName_UEx [0x77168AFF+1215]\n\tRtlGetFullPathName_UEx [0x77168ACD+1165]\n",
     "output_type": "error",
     "traceback": [
      "\u001b[1;31m---------------------------------------------------------------------------\u001b[0m",
      "\u001b[1;31mNoSuchElementException\u001b[0m                    Traceback (most recent call last)",
      "\u001b[1;32m~\\AppData\\Local\\Temp/ipykernel_14168/494207570.py\u001b[0m in \u001b[0;36m<module>\u001b[1;34m\u001b[0m\n\u001b[1;32m----> 1\u001b[1;33m \u001b[0mbrowser\u001b[0m \u001b[1;33m=\u001b[0m \u001b[0mconnect\u001b[0m\u001b[1;33m(\u001b[0m\u001b[0mbrowser\u001b[0m\u001b[1;33m)\u001b[0m\u001b[1;33m\u001b[0m\u001b[1;33m\u001b[0m\u001b[0m\n\u001b[0m",
      "\u001b[1;32m~\\AppData\\Local\\Temp/ipykernel_14168/2995802360.py\u001b[0m in \u001b[0;36mconnect\u001b[1;34m(browser)\u001b[0m\n\u001b[0;32m     34\u001b[0m             browser.get(\n\u001b[0;32m     35\u001b[0m                 f'https://www.linkedin.com/search/results/people/?keywords={keyword}&origin=SWITCH_SEARCH_VERTICAL&page={page_counter}')\n\u001b[1;32m---> 36\u001b[1;33m             \u001b[0mconnect_buttons_fetch_details\u001b[0m\u001b[1;33m(\u001b[0m\u001b[0mbrowser\u001b[0m\u001b[1;33m,\u001b[0m \u001b[0mkeyword\u001b[0m\u001b[1;33m)\u001b[0m\u001b[1;33m\u001b[0m\u001b[1;33m\u001b[0m\u001b[0m\n\u001b[0m\u001b[0;32m     37\u001b[0m             \u001b[0mpage_counter\u001b[0m \u001b[1;33m+=\u001b[0m \u001b[1;36m1\u001b[0m\u001b[1;33m\u001b[0m\u001b[1;33m\u001b[0m\u001b[0m\n\u001b[0;32m     38\u001b[0m     \u001b[1;32mreturn\u001b[0m \u001b[0mbrowser\u001b[0m\u001b[1;33m\u001b[0m\u001b[1;33m\u001b[0m\u001b[0m\n",
      "\u001b[1;32m~\\AppData\\Local\\Temp/ipykernel_14168/2995802360.py\u001b[0m in \u001b[0;36mconnect_buttons_fetch_details\u001b[1;34m(browser, keyword)\u001b[0m\n\u001b[0;32m     17\u001b[0m             \u001b[1;32mexcept\u001b[0m \u001b[0mException\u001b[0m\u001b[1;33m:\u001b[0m\u001b[1;33m\u001b[0m\u001b[1;33m\u001b[0m\u001b[0m\n\u001b[0;32m     18\u001b[0m                 \u001b[1;32mcontinue\u001b[0m\u001b[1;33m\u001b[0m\u001b[1;33m\u001b[0m\u001b[0m\n\u001b[1;32m---> 19\u001b[1;33m             \u001b[0mbrowser\u001b[0m \u001b[1;33m=\u001b[0m \u001b[0msend_invitation_note\u001b[0m\u001b[1;33m(\u001b[0m\u001b[0mbrowser\u001b[0m\u001b[1;33m)\u001b[0m\u001b[1;33m\u001b[0m\u001b[1;33m\u001b[0m\u001b[0m\n\u001b[0m\u001b[0;32m     20\u001b[0m             \u001b[0msleep\u001b[0m\u001b[1;33m(\u001b[0m\u001b[0mrandom\u001b[0m\u001b[1;33m.\u001b[0m\u001b[0muniform\u001b[0m\u001b[1;33m(\u001b[0m\u001b[1;36m1\u001b[0m\u001b[1;33m,\u001b[0m \u001b[1;36m2\u001b[0m\u001b[1;33m)\u001b[0m\u001b[1;33m)\u001b[0m\u001b[1;33m\u001b[0m\u001b[1;33m\u001b[0m\u001b[0m\n\u001b[0;32m     21\u001b[0m             \u001b[0mNO_OF_CONNECTIONS\u001b[0m \u001b[1;33m=\u001b[0m \u001b[0mNO_OF_CONNECTIONS\u001b[0m \u001b[1;33m-\u001b[0m \u001b[1;36m1\u001b[0m\u001b[1;33m\u001b[0m\u001b[1;33m\u001b[0m\u001b[0m\n",
      "\u001b[1;32m~\\AppData\\Local\\Temp/ipykernel_14168/2774090357.py\u001b[0m in \u001b[0;36msend_invitation_note\u001b[1;34m(browser)\u001b[0m\n\u001b[0;32m      1\u001b[0m \u001b[1;32mdef\u001b[0m \u001b[0msend_invitation_note\u001b[0m\u001b[1;33m(\u001b[0m\u001b[0mbrowser\u001b[0m\u001b[1;33m)\u001b[0m\u001b[1;33m:\u001b[0m\u001b[1;33m\u001b[0m\u001b[1;33m\u001b[0m\u001b[0m\n\u001b[1;32m----> 2\u001b[1;33m     \u001b[0mnote_button_entity\u001b[0m \u001b[1;33m=\u001b[0m \u001b[0mbrowser\u001b[0m\u001b[1;33m.\u001b[0m\u001b[0mfind_element_by_xpath\u001b[0m\u001b[1;33m(\u001b[0m\u001b[1;34m'//button[@aria-label=\"Add a note\"]'\u001b[0m\u001b[1;33m)\u001b[0m\u001b[1;33m\u001b[0m\u001b[1;33m\u001b[0m\u001b[0m\n\u001b[0m\u001b[0;32m      3\u001b[0m     \u001b[0mnote_button_entity\u001b[0m\u001b[1;33m.\u001b[0m\u001b[0mclick\u001b[0m\u001b[1;33m(\u001b[0m\u001b[1;33m)\u001b[0m\u001b[1;33m\u001b[0m\u001b[1;33m\u001b[0m\u001b[0m\n\u001b[0;32m      4\u001b[0m     \u001b[0msleep\u001b[0m\u001b[1;33m(\u001b[0m\u001b[1;36m1\u001b[0m\u001b[1;33m)\u001b[0m\u001b[1;33m\u001b[0m\u001b[1;33m\u001b[0m\u001b[0m\n\u001b[0;32m      5\u001b[0m     \u001b[0mmessage\u001b[0m \u001b[1;33m=\u001b[0m \u001b[0mbrowser\u001b[0m\u001b[1;33m.\u001b[0m\u001b[0mfind_element_by_xpath\u001b[0m\u001b[1;33m(\u001b[0m\u001b[1;34m'//textarea[@name=\"message\"]'\u001b[0m\u001b[1;33m)\u001b[0m\u001b[1;33m\u001b[0m\u001b[1;33m\u001b[0m\u001b[0m\n",
      "\u001b[1;32m~\\AppData\\Local\\Programs\\Python\\Python39\\lib\\site-packages\\selenium\\webdriver\\remote\\webdriver.py\u001b[0m in \u001b[0;36mfind_element_by_xpath\u001b[1;34m(self, xpath)\u001b[0m\n\u001b[0;32m    518\u001b[0m             \u001b[0mstacklevel\u001b[0m\u001b[1;33m=\u001b[0m\u001b[1;36m2\u001b[0m\u001b[1;33m,\u001b[0m\u001b[1;33m\u001b[0m\u001b[1;33m\u001b[0m\u001b[0m\n\u001b[0;32m    519\u001b[0m         )\n\u001b[1;32m--> 520\u001b[1;33m         \u001b[1;32mreturn\u001b[0m \u001b[0mself\u001b[0m\u001b[1;33m.\u001b[0m\u001b[0mfind_element\u001b[0m\u001b[1;33m(\u001b[0m\u001b[0mby\u001b[0m\u001b[1;33m=\u001b[0m\u001b[0mBy\u001b[0m\u001b[1;33m.\u001b[0m\u001b[0mXPATH\u001b[0m\u001b[1;33m,\u001b[0m \u001b[0mvalue\u001b[0m\u001b[1;33m=\u001b[0m\u001b[0mxpath\u001b[0m\u001b[1;33m)\u001b[0m\u001b[1;33m\u001b[0m\u001b[1;33m\u001b[0m\u001b[0m\n\u001b[0m\u001b[0;32m    521\u001b[0m \u001b[1;33m\u001b[0m\u001b[0m\n\u001b[0;32m    522\u001b[0m     \u001b[1;32mdef\u001b[0m \u001b[0mfind_elements_by_xpath\u001b[0m\u001b[1;33m(\u001b[0m\u001b[0mself\u001b[0m\u001b[1;33m,\u001b[0m \u001b[0mxpath\u001b[0m\u001b[1;33m)\u001b[0m \u001b[1;33m->\u001b[0m \u001b[0mWebElement\u001b[0m\u001b[1;33m:\u001b[0m\u001b[1;33m\u001b[0m\u001b[1;33m\u001b[0m\u001b[0m\n",
      "\u001b[1;32m~\\AppData\\Local\\Programs\\Python\\Python39\\lib\\site-packages\\selenium\\webdriver\\remote\\webdriver.py\u001b[0m in \u001b[0;36mfind_element\u001b[1;34m(self, by, value)\u001b[0m\n\u001b[0;32m   1242\u001b[0m             \u001b[0mvalue\u001b[0m \u001b[1;33m=\u001b[0m \u001b[1;34m'[name=\"%s\"]'\u001b[0m \u001b[1;33m%\u001b[0m \u001b[0mvalue\u001b[0m\u001b[1;33m\u001b[0m\u001b[1;33m\u001b[0m\u001b[0m\n\u001b[0;32m   1243\u001b[0m \u001b[1;33m\u001b[0m\u001b[0m\n\u001b[1;32m-> 1244\u001b[1;33m         return self.execute(Command.FIND_ELEMENT, {\n\u001b[0m\u001b[0;32m   1245\u001b[0m             \u001b[1;34m'using'\u001b[0m\u001b[1;33m:\u001b[0m \u001b[0mby\u001b[0m\u001b[1;33m,\u001b[0m\u001b[1;33m\u001b[0m\u001b[1;33m\u001b[0m\u001b[0m\n\u001b[0;32m   1246\u001b[0m             'value': value})['value']\n",
      "\u001b[1;32m~\\AppData\\Local\\Programs\\Python\\Python39\\lib\\site-packages\\selenium\\webdriver\\remote\\webdriver.py\u001b[0m in \u001b[0;36mexecute\u001b[1;34m(self, driver_command, params)\u001b[0m\n\u001b[0;32m    422\u001b[0m         \u001b[0mresponse\u001b[0m \u001b[1;33m=\u001b[0m \u001b[0mself\u001b[0m\u001b[1;33m.\u001b[0m\u001b[0mcommand_executor\u001b[0m\u001b[1;33m.\u001b[0m\u001b[0mexecute\u001b[0m\u001b[1;33m(\u001b[0m\u001b[0mdriver_command\u001b[0m\u001b[1;33m,\u001b[0m \u001b[0mparams\u001b[0m\u001b[1;33m)\u001b[0m\u001b[1;33m\u001b[0m\u001b[1;33m\u001b[0m\u001b[0m\n\u001b[0;32m    423\u001b[0m         \u001b[1;32mif\u001b[0m \u001b[0mresponse\u001b[0m\u001b[1;33m:\u001b[0m\u001b[1;33m\u001b[0m\u001b[1;33m\u001b[0m\u001b[0m\n\u001b[1;32m--> 424\u001b[1;33m             \u001b[0mself\u001b[0m\u001b[1;33m.\u001b[0m\u001b[0merror_handler\u001b[0m\u001b[1;33m.\u001b[0m\u001b[0mcheck_response\u001b[0m\u001b[1;33m(\u001b[0m\u001b[0mresponse\u001b[0m\u001b[1;33m)\u001b[0m\u001b[1;33m\u001b[0m\u001b[1;33m\u001b[0m\u001b[0m\n\u001b[0m\u001b[0;32m    425\u001b[0m             response['value'] = self._unwrap_value(\n\u001b[0;32m    426\u001b[0m                 response.get('value', None))\n",
      "\u001b[1;32m~\\AppData\\Local\\Programs\\Python\\Python39\\lib\\site-packages\\selenium\\webdriver\\remote\\errorhandler.py\u001b[0m in \u001b[0;36mcheck_response\u001b[1;34m(self, response)\u001b[0m\n\u001b[0;32m    245\u001b[0m                 \u001b[0malert_text\u001b[0m \u001b[1;33m=\u001b[0m \u001b[0mvalue\u001b[0m\u001b[1;33m[\u001b[0m\u001b[1;34m'alert'\u001b[0m\u001b[1;33m]\u001b[0m\u001b[1;33m.\u001b[0m\u001b[0mget\u001b[0m\u001b[1;33m(\u001b[0m\u001b[1;34m'text'\u001b[0m\u001b[1;33m)\u001b[0m\u001b[1;33m\u001b[0m\u001b[1;33m\u001b[0m\u001b[0m\n\u001b[0;32m    246\u001b[0m             \u001b[1;32mraise\u001b[0m \u001b[0mexception_class\u001b[0m\u001b[1;33m(\u001b[0m\u001b[0mmessage\u001b[0m\u001b[1;33m,\u001b[0m \u001b[0mscreen\u001b[0m\u001b[1;33m,\u001b[0m \u001b[0mstacktrace\u001b[0m\u001b[1;33m,\u001b[0m \u001b[0malert_text\u001b[0m\u001b[1;33m)\u001b[0m  \u001b[1;31m# type: ignore[call-arg]  # mypy is not smart enough here\u001b[0m\u001b[1;33m\u001b[0m\u001b[1;33m\u001b[0m\u001b[0m\n\u001b[1;32m--> 247\u001b[1;33m         \u001b[1;32mraise\u001b[0m \u001b[0mexception_class\u001b[0m\u001b[1;33m(\u001b[0m\u001b[0mmessage\u001b[0m\u001b[1;33m,\u001b[0m \u001b[0mscreen\u001b[0m\u001b[1;33m,\u001b[0m \u001b[0mstacktrace\u001b[0m\u001b[1;33m)\u001b[0m\u001b[1;33m\u001b[0m\u001b[1;33m\u001b[0m\u001b[0m\n\u001b[0m\u001b[0;32m    248\u001b[0m \u001b[1;33m\u001b[0m\u001b[0m\n\u001b[0;32m    249\u001b[0m     \u001b[1;32mdef\u001b[0m \u001b[0m_value_or_default\u001b[0m\u001b[1;33m(\u001b[0m\u001b[0mself\u001b[0m\u001b[1;33m,\u001b[0m \u001b[0mobj\u001b[0m\u001b[1;33m:\u001b[0m \u001b[0mMapping\u001b[0m\u001b[1;33m[\u001b[0m\u001b[0m_KT\u001b[0m\u001b[1;33m,\u001b[0m \u001b[0m_VT\u001b[0m\u001b[1;33m]\u001b[0m\u001b[1;33m,\u001b[0m \u001b[0mkey\u001b[0m\u001b[1;33m:\u001b[0m \u001b[0m_KT\u001b[0m\u001b[1;33m,\u001b[0m \u001b[0mdefault\u001b[0m\u001b[1;33m:\u001b[0m \u001b[0m_VT\u001b[0m\u001b[1;33m)\u001b[0m \u001b[1;33m->\u001b[0m \u001b[0m_VT\u001b[0m\u001b[1;33m:\u001b[0m\u001b[1;33m\u001b[0m\u001b[1;33m\u001b[0m\u001b[0m\n",
      "\u001b[1;31mNoSuchElementException\u001b[0m: Message: no such element: Unable to locate element: {\"method\":\"xpath\",\"selector\":\"//button[@aria-label=\"Add a note\"]\"}\n  (Session info: chrome=96.0.4664.45)\nStacktrace:\nBacktrace:\n\tOrdinal0 [0x01246903+2517251]\n\tOrdinal0 [0x011DF8E1+2095329]\n\tOrdinal0 [0x010E2848+1058888]\n\tOrdinal0 [0x0110D448+1233992]\n\tOrdinal0 [0x0110D63B+1234491]\n\tOrdinal0 [0x01137812+1406994]\n\tOrdinal0 [0x0112650A+1336586]\n\tOrdinal0 [0x01135BBF+1399743]\n\tOrdinal0 [0x0112639B+1336219]\n\tOrdinal0 [0x011027A7+1189799]\n\tOrdinal0 [0x01103609+1193481]\n\tGetHandleVerifier [0x013D5904+1577972]\n\tGetHandleVerifier [0x01480B97+2279047]\n\tGetHandleVerifier [0x012D6D09+534521]\n\tGetHandleVerifier [0x012D5DB9+530601]\n\tOrdinal0 [0x011E4FF9+2117625]\n\tOrdinal0 [0x011E98A8+2136232]\n\tOrdinal0 [0x011E99E2+2136546]\n\tOrdinal0 [0x011F3541+2176321]\n\tBaseThreadInitThunk [0x751B6739+25]\n\tRtlGetFullPathName_UEx [0x77168AFF+1215]\n\tRtlGetFullPathName_UEx [0x77168ACD+1165]\n"
     ]
    }
   ],
   "source": [
    "browser = connect(browser)"
   ]
  },
  {
   "cell_type": "code",
   "execution_count": null,
   "metadata": {
    "collapsed": false,
    "pycharm": {
     "name": "#%%"
    }
   },
   "outputs": [],
   "source": []
  }
 ],
 "metadata": {
  "kernelspec": {
   "display_name": "Python 3",
   "language": "python",
   "name": "python3"
  },
  "language_info": {
   "codemirror_mode": {
    "name": "ipython",
    "version": 3
   },
   "file_extension": ".py",
   "mimetype": "text/x-python",
   "name": "python",
   "nbconvert_exporter": "python",
   "pygments_lexer": "ipython3",
   "version": "3.9.2"
  }
 },
 "nbformat": 4,
 "nbformat_minor": 0
}
